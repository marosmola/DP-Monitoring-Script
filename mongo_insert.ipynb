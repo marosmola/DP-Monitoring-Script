{
 "cells": [
  {
   "cell_type": "code",
   "execution_count": null,
   "id": "known-newark",
   "metadata": {},
   "outputs": [],
   "source": [
    "import json\n",
    "import matplotlib.pyplot as plt\n",
    "from geopandas import GeoDataFrame\n",
    "from pymongo import MongoClient"
   ]
  },
  {
   "cell_type": "code",
   "execution_count": null,
   "id": "searching-insight",
   "metadata": {},
   "outputs": [],
   "source": [
    "client = MongoClient(\n",
    "    'mongodb://localhost:27017/',\n",
    "    username='mongoadmin',\n",
    "    password='pass',\n",
    "    authSource='admin'\n",
    ")\n",
    "\n",
    "db = client.geodata\n",
    "lpis = db.lpis\n",
    "\n",
    "# Delete all data\n",
    "lpis.delete_many({})\n",
    "lpis.count_documents({})"
   ]
  },
  {
   "cell_type": "code",
   "execution_count": 1,
   "id": "returning-output",
   "metadata": {},
   "outputs": [
    {
     "ename": "NameError",
     "evalue": "name 'json' is not defined",
     "output_type": "error",
     "traceback": [
      "\u001b[0;31m---------------------------------------------------------------------------\u001b[0m",
      "\u001b[0;31mNameError\u001b[0m                                 Traceback (most recent call last)",
      "\u001b[0;32m<ipython-input-1-e8f83b5e5a13>\u001b[0m in \u001b[0;36m<module>\u001b[0;34m\u001b[0m\n\u001b[1;32m      3\u001b[0m     \u001b[0mfile_data\u001b[0m \u001b[0;34m=\u001b[0m \u001b[0mfile\u001b[0m\u001b[0;34m.\u001b[0m\u001b[0mread\u001b[0m\u001b[0;34m(\u001b[0m\u001b[0;34m)\u001b[0m\u001b[0;34m\u001b[0m\u001b[0;34m\u001b[0m\u001b[0m\n\u001b[1;32m      4\u001b[0m \u001b[0;34m\u001b[0m\u001b[0m\n\u001b[0;32m----> 5\u001b[0;31m \u001b[0mjson_data\u001b[0m \u001b[0;34m=\u001b[0m \u001b[0mjson\u001b[0m\u001b[0;34m.\u001b[0m\u001b[0mloads\u001b[0m\u001b[0;34m(\u001b[0m\u001b[0mfile_data\u001b[0m\u001b[0;34m)\u001b[0m\u001b[0;34m\u001b[0m\u001b[0;34m\u001b[0m\u001b[0m\n\u001b[0m\u001b[1;32m      6\u001b[0m \u001b[0;31m# print(json_data['type'])\u001b[0m\u001b[0;34m\u001b[0m\u001b[0;34m\u001b[0m\u001b[0;34m\u001b[0m\u001b[0m\n\u001b[1;32m      7\u001b[0m \u001b[0;31m# print(json_data['name'])\u001b[0m\u001b[0;34m\u001b[0m\u001b[0;34m\u001b[0m\u001b[0;34m\u001b[0m\u001b[0m\n",
      "\u001b[0;31mNameError\u001b[0m: name 'json' is not defined"
     ]
    }
   ],
   "source": [
    "# Load all fueatures to MongoDB\n",
    "with open('shapes/kulturne_diely.geojson', 'r') as file:\n",
    "    file_data = file.read()\n",
    "\n",
    "json_data = json.loads(file_data)  \n",
    "# print(json_data['type'])\n",
    "# print(json_data['name'])\n",
    "\n",
    "culture_areas = json_data['features']\n",
    "result = lpis.insert_many(culture_areas)\n",
    "print(result)"
   ]
  },
  {
   "cell_type": "code",
   "execution_count": 6,
   "id": "peripheral-candle",
   "metadata": {},
   "outputs": [
    {
     "data": {
      "text/plain": [
       "0    False\n",
       "dtype: bool"
      ]
     },
     "execution_count": 6,
     "metadata": {},
     "output_type": "execute_result"
    },
    {
     "data": {
      "image/png": "[encoded data removed]",
      "text/plain": [
       "<Figure size 432x288 with 1 Axes>"
      ]
     },
     "metadata": {
      "needs_background": "light"
     },
     "output_type": "display_data"
    }
   ],
   "source": [
    "fig, ax = plt.subplots()\n",
    "\n",
    "# Get area from database\n",
    "result = lpis.find_one({'properties.LOKALITA': 'Poľov', 'properties.ZKODKD': '5204/1'})\n",
    "polov = GeoDataFrame.from_features([result], crs=\"ESRI:102067\")\n",
    "polov_epsg = polov.to_crs(epsg=4326)\n",
    "polov_epsg.plot(ax=ax, color='white', edgecolor='black')\n",
    "\n",
    "# Create point from standard coordinates system\n",
    "# in: 48.665473, 21.236789\n",
    "# out: 48.665593, 21.234600\n",
    "# 48.66866154962737, 21.243266498793403\n",
    "\n",
    "# 48.692323533931464, 21.21618096535999\n",
    "# 48.693683819312064, 21.218412021887293\n",
    "\n",
    "inpoint_feature = {\n",
    "  \"type\": \"Feature\",\n",
    "  \"properties\": {\n",
    "    \"name\": \"inpoint\"\n",
    "  },\n",
    "  \"geometry\": {\n",
    "    \"type\": \"Point\",\n",
    "    \"coordinates\": [\n",
    "      21.218412021887293,\n",
    "      48.693683819312064\n",
    "    ]\n",
    "  }\n",
    "}\n",
    "\n",
    "\n",
    "point = GeoDataFrame.from_features([inpoint_feature], crs=\"EPSG:4326\")\n",
    "point.plot(ax=ax, marker='o', color='red', markersize=5)\n",
    "\n",
    "polov_epsg.intersects(point)"
   ]
  },
  {
   "cell_type": "code",
   "execution_count": null,
   "id": "incorporate-sleeve",
   "metadata": {},
   "outputs": [],
   "source": []
  }
 ],
 "metadata": {
  "kernelspec": {
   "display_name": "Python 3",
   "language": "python",
   "name": "python3"
  },
  "language_info": {
   "codemirror_mode": {
    "name": "ipython",
    "version": 3
   },
   "file_extension": ".py",
   "mimetype": "text/x-python",
   "name": "python",
   "nbconvert_exporter": "python",
   "pygments_lexer": "ipython3",
   "version": "3.9.6"
  }
 },
 "nbformat": 4,
 "nbformat_minor": 5
}
