{
 "cells": [
  {
   "cell_type": "code",
   "execution_count": 1,
   "id": "known-newark",
   "metadata": {},
   "outputs": [],
   "source": [
    "import json\n",
    "import matplotlib.pyplot as plt\n",
    "from geopandas import GeoDataFrame\n",
    "from pymongo import MongoClient"
   ]
  },
  {
   "cell_type": "code",
   "execution_count": 2,
   "id": "searching-insight",
   "metadata": {},
   "outputs": [
    {
     "data": {
      "text/plain": [
       "0"
      ]
     },
     "execution_count": 2,
     "metadata": {},
     "output_type": "execute_result"
    }
   ],
   "source": [
    "client = MongoClient(\n",
    "    'mongodb://localhost:27017/',\n",
    "    username='mongoadmin',\n",
    "    password='pass',\n",
    "    authSource='admin'\n",
    ")\n",
    "\n",
    "db = client.geodata\n",
    "lpis = db.lpis\n",
    "\n",
    "# Delete all data\n",
    "lpis.delete_many({})\n",
    "lpis.count_documents({})"
   ]
  },
  {
   "cell_type": "code",
   "execution_count": 3,
   "id": "returning-output",
   "metadata": {},
   "outputs": [
    {
     "name": "stdout",
     "output_type": "stream",
     "text": [
      "<pymongo.results.InsertManyResult object at 0x7f7846fb7b40>\n"
     ]
    }
   ],
   "source": [
    "# Load all fueatures to MongoDB\n",
    "with open('shapes/kulturne_diely.geojson', 'r') as file:\n",
    "    file_data = file.read()\n",
    "\n",
    "json_data = json.loads(file_data)  \n",
    "# print(json_data['type'])\n",
    "# print(json_data['name'])\n",
    "\n",
    "culture_areas = json_data['features']\n",
    "result = lpis.insert_many(culture_areas)\n",
    "print(result)"
   ]
  },
  {
   "cell_type": "code",
   "execution_count": 5,
   "id": "peripheral-candle",
   "metadata": {},
   "outputs": [
    {
     "data": {
      "text/plain": [
       "0    True\n",
       "dtype: bool"
      ]
     },
     "execution_count": 5,
     "metadata": {},
     "output_type": "execute_result"
    },
    {
     "data": {
      "image/png": "[encoded data removed]",
      "text/plain": [
       "<Figure size 432x288 with 1 Axes>"
      ]
     },
     "metadata": {
      "needs_background": "light"
     },
     "output_type": "display_data"
    }
   ],
   "source": [
    "fig, ax = plt.subplots()\n",
    "\n",
    "# Get area from database\n",
    "result = lpis.find_one({'properties.LOKALITA': 'Poľov', 'properties.ZKODKD': '4503/1'})\n",
    "polov = GeoDataFrame.from_features([result], crs=\"ESRI:102067\")\n",
    "polov_epsg = polov.to_crs(epsg=4326)\n",
    "polov_epsg.plot(ax=ax, color='white', edgecolor='black')\n",
    "\n",
    "# Create point from standard coordinates system\n",
    "# in: 48.665473, 21.236789\n",
    "# out: 48.665593, 21.234600\n",
    "inpoint_feature = {\n",
    "  \"type\": \"Feature\",\n",
    "  \"properties\": {\n",
    "    \"name\": \"inpoint\"\n",
    "  },\n",
    "  \"geometry\": {\n",
    "    \"type\": \"Point\",\n",
    "    \"coordinates\": [\n",
    "      21.236789,\n",
    "      48.665473\n",
    "    ]\n",
    "  }\n",
    "}\n",
    "\n",
    "\n",
    "point = GeoDataFrame.from_features([inpoint_feature], crs=\"EPSG:4326\")\n",
    "point.plot(ax=ax, marker='o', color='red', markersize=5)\n",
    "\n",
    "polov_epsg.intersects(point)"
   ]
  },
  {
   "cell_type": "code",
   "execution_count": null,
   "id": "incorporate-sleeve",
   "metadata": {},
   "outputs": [],
   "source": []
  }
 ],
 "metadata": {
  "kernelspec": {
   "display_name": "Python 3",
   "language": "python",
   "name": "python3"
  },
  "language_info": {
   "codemirror_mode": {
    "name": "ipython",
    "version": 3
   },
   "file_extension": ".py",
   "mimetype": "text/x-python",
   "name": "python",
   "nbconvert_exporter": "python",
   "pygments_lexer": "ipython3",
   "version": "3.9.2"
  }
 },
 "nbformat": 4,
 "nbformat_minor": 5
}
