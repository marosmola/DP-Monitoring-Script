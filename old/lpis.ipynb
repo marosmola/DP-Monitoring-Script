{
 "cells": [
  {
   "cell_type": "code",
   "execution_count": 1,
   "id": "irish-imagination",
   "metadata": {},
   "outputs": [],
   "source": [
    "import json\n",
    "from geopandas import GeoDataFrame\n",
    "import matplotlib.pyplot as plt"
   ]
  },
  {
   "cell_type": "code",
   "execution_count": 2,
   "id": "pacific-siemens",
   "metadata": {},
   "outputs": [],
   "source": [
    "# Create features from files\n",
    "# with open('shapes/KD.geojson', 'r') as data:\n",
    "#     kd_data = json.loads(data.read())\n",
    "    \n",
    "# hlavna = GeoDataFrame.from_features(kd_data)\n",
    "# hlavna.plot()"
   ]
  },
  {
   "cell_type": "code",
   "execution_count": 19,
   "id": "treated-wheat",
   "metadata": {},
   "outputs": [
    {
     "name": "stdout",
     "output_type": "stream",
     "text": [
      "ESRI:102067\n",
      "epsg:4326\n"
     ]
    },
    {
     "data": {
      "text/plain": [
       "<AxesSubplot:>"
      ]
     },
     "execution_count": 19,
     "metadata": {},
     "output_type": "execute_result"
    },
    {
     "data": {
      "image/png": "[encoded data removed]",
      "text/plain": [
       "<Figure size 432x288 with 1 Axes>"
      ]
     },
     "metadata": {
      "needs_background": "light"
     },
     "output_type": "display_data"
    }
   ],
   "source": [
    "fig, ax = plt.subplots()\n",
    "\n",
    "with open('shapes/kavecany.geojson', 'r') as data:\n",
    "    kavecany_data = json.loads(data.read())\n",
    "    \n",
    "kavecany = GeoDataFrame.from_features([kavecany_data], crs=\"ESRI:102067\")\n",
    "\n",
    "new_kavecany = kavecany.to_crs(epsg=4326)\n",
    "\n",
    "# print(dir(kavecany))\n",
    "print(kavecany.crs)\n",
    "print(new_kavecany.crs)\n",
    "\n",
    "new_kavecany.plot(ax=ax, color='white', edgecolor='black')\n",
    "\n",
    "with open('shapes/in.geojson', 'r') as data:\n",
    "    x_data = json.loads(data.read())\n",
    "    \n",
    "point = GeoDataFrame.from_features([x_data], crs=\"EPSG:4326\")\n",
    "point.plot(ax=ax, marker='o', color='red', markersize=5)\n",
    "\n"
   ]
  },
  {
   "cell_type": "code",
   "execution_count": 21,
   "id": "radio-bristol",
   "metadata": {},
   "outputs": [
    {
     "name": "stdout",
     "output_type": "stream",
     "text": [
      "0    True\n",
      "dtype: bool\n"
     ]
    }
   ],
   "source": [
    "print(new_kavecany.intersects(point))"
   ]
  }
 ],
 "metadata": {
  "kernelspec": {
   "display_name": "Python 3",
   "language": "python",
   "name": "python3"
  },
  "language_info": {
   "codemirror_mode": {
    "name": "ipython",
    "version": 3
   },
   "file_extension": ".py",
   "mimetype": "text/x-python",
   "name": "python",
   "nbconvert_exporter": "python",
   "pygments_lexer": "ipython3",
   "version": "3.9.2"
  }
 },
 "nbformat": 4,
 "nbformat_minor": 5
}
